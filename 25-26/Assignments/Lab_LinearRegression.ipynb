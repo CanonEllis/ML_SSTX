{
  "cells": [
    {
      "cell_type": "markdown",
      "id": "ed535203",
      "metadata": {
        "id": "ed535203"
      },
      "source": [
        "# **Linear Regression Lab Assignment**\n",
        "\n",
        "**NAME:**\n",
        "\n",
        "**Objective:** Apply the full linear regression process to a dataset of your choice.\n",
        "You'll:\n",
        "- Choose and clean your dataset\n",
        "- Explore the data with EDA\n",
        "- Fit and evaluate a linear regression model\n",
        "- Communicate your findings"
      ]
    },
    {
      "cell_type": "markdown",
      "id": "5eb87b6a",
      "metadata": {
        "id": "5eb87b6a"
      },
      "source": [
        "## **Step 1: Load Your Dataset**"
      ]
    },
    {
      "cell_type": "markdown",
      "source": [],
      "metadata": {
        "id": "NnAljMHYok0V"
      },
      "id": "NnAljMHYok0V"
    },
    {
      "cell_type": "code",
      "execution_count": null,
      "id": "c813e9a2",
      "metadata": {
        "id": "c813e9a2"
      },
      "outputs": [],
      "source": []
    },
    {
      "cell_type": "markdown",
      "id": "19a687ca",
      "metadata": {
        "id": "19a687ca"
      },
      "source": [
        "## **Step 2: Inspect & Clean Your Data**"
      ]
    },
    {
      "cell_type": "code",
      "execution_count": null,
      "id": "eb7f84b5",
      "metadata": {
        "id": "eb7f84b5"
      },
      "outputs": [],
      "source": []
    },
    {
      "cell_type": "markdown",
      "id": "0d298a83",
      "metadata": {
        "id": "0d298a83"
      },
      "source": [
        "## **Step 3: Visualize Your Data**"
      ]
    },
    {
      "cell_type": "code",
      "execution_count": null,
      "id": "872a3ee4",
      "metadata": {
        "id": "872a3ee4"
      },
      "outputs": [],
      "source": []
    },
    {
      "cell_type": "markdown",
      "id": "1adeafde",
      "metadata": {
        "id": "1adeafde"
      },
      "source": [
        "## **Step 4: Check for Outliers**"
      ]
    },
    {
      "cell_type": "code",
      "execution_count": null,
      "id": "7d6bbe53",
      "metadata": {
        "id": "7d6bbe53"
      },
      "outputs": [],
      "source": []
    },
    {
      "cell_type": "markdown",
      "id": "d48d1ad7",
      "metadata": {
        "id": "d48d1ad7"
      },
      "source": [
        "## **Step 5: Fit a Linear Regression Model**"
      ]
    },
    {
      "cell_type": "code",
      "execution_count": null,
      "id": "9407056a",
      "metadata": {
        "id": "9407056a"
      },
      "outputs": [],
      "source": []
    },
    {
      "cell_type": "markdown",
      "id": "6f25aede",
      "metadata": {
        "id": "6f25aede"
      },
      "source": [
        "## **Step 6: Evaluate the Model**"
      ]
    },
    {
      "cell_type": "code",
      "execution_count": null,
      "id": "76e71dbb",
      "metadata": {
        "id": "76e71dbb"
      },
      "outputs": [],
      "source": []
    },
    {
      "cell_type": "markdown",
      "id": "42d44284",
      "metadata": {
        "id": "42d44284"
      },
      "source": [
        "## **Step 7: Plot the Regression Line**"
      ]
    },
    {
      "cell_type": "code",
      "execution_count": null,
      "id": "93f63d66",
      "metadata": {
        "id": "93f63d66"
      },
      "outputs": [],
      "source": []
    },
    {
      "cell_type": "markdown",
      "id": "01ee2f5b",
      "metadata": {
        "id": "01ee2f5b"
      },
      "source": [
        "## **Step 8: Write-Up**\n",
        "\n",
        "Write a short analysis:\n",
        "- What dataset did you choose?\n",
        "- What was the relationship between variables?\n",
        "- How well did the model perform (R², MSE)?\n",
        "- Any concerns, challenges, or assumptions?"
      ]
    },
    {
      "cell_type": "markdown",
      "id": "2b784ea6",
      "metadata": {
        "id": "2b784ea6"
      },
      "source": [
        "\n",
        "## **Challenge Question: Theory vs Reality**\n",
        "\n",
        "Some properties of linear regression are **true in theory**, but don't always hold in practice.  \n",
        "\n",
        "Your task is to **prove one**, then **break it**.\n",
        "\n",
        "### **Part 1: Theoretical Proof**\n",
        "\n",
        "Choose one property of linear regression and prove that it holds. Create this proof either by code or math.\n",
        "\n",
        "### **Part 2: Counterexample**\n",
        "\n",
        "Now build or find a dataset that **violates** this property.\n",
        "\n",
        "### **Final Reflection**\n",
        "\n",
        "In a markdown cell, explain:\n",
        "- What was the identity you chose?\n",
        "- How did you prove it?\n",
        "- How did you break it?\n",
        "- What does this reveal about real-world modeling vs pure math?\n",
        "\n",
        "\n"
      ]
    }
  ],
  "metadata": {
    "colab": {
      "provenance": []
    }
  },
  "nbformat": 4,
  "nbformat_minor": 5
}