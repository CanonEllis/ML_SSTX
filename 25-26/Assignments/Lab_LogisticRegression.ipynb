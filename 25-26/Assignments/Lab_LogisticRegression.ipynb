{
  "nbformat": 4,
  "nbformat_minor": 0,
  "metadata": {
    "colab": {
      "provenance": []
    },
    "kernelspec": {
      "name": "python3",
      "display_name": "Python 3"
    },
    "language_info": {
      "name": "python"
    }
  },
  "cells": [
    {
      "cell_type": "markdown",
      "source": [
        "### Logistic Regression Lab Assignment\n",
        "\n",
        "In this assignment, you will apply logistic regression to a dataset of your choice with a binary outcome (0 or 1).\n",
        "You’ll analyze the relationship between the input features and the target class, evaluate your model’s performance, and reflect on the results.\n",
        "\n",
        "\n",
        "\n",
        "\n",
        "*   Investigate your data\n",
        "*   You’ll analyze the relationship between the input features and the target class\n",
        "*   Evaluate your model’s performance\n",
        "*   and reflect on the results"
      ],
      "metadata": {
        "id": "1_KClTuWNij9"
      }
    },
    {
      "cell_type": "markdown",
      "source": [
        "### Step 1: Choose and Load a Dataset"
      ],
      "metadata": {
        "id": "7vrjtby1OM1n"
      }
    },
    {
      "cell_type": "code",
      "source": [],
      "metadata": {
        "id": "T0HX_4zSQMAg"
      },
      "execution_count": null,
      "outputs": []
    },
    {
      "cell_type": "markdown",
      "source": [
        "### Step 2: Data Inspection"
      ],
      "metadata": {
        "id": "V0nEFWSnOM30"
      }
    },
    {
      "cell_type": "code",
      "source": [],
      "metadata": {
        "id": "hbRxUT87QMUE"
      },
      "execution_count": null,
      "outputs": []
    },
    {
      "cell_type": "markdown",
      "source": [
        "### Step 3: Exploratory Data Analysis (EDA)"
      ],
      "metadata": {
        "id": "WdggNbfGOM5m"
      }
    },
    {
      "cell_type": "code",
      "source": [],
      "metadata": {
        "id": "Rp1XQ03VQMvq"
      },
      "execution_count": null,
      "outputs": []
    },
    {
      "cell_type": "markdown",
      "source": [
        "### Step 4: Logistic Regression — Model Training"
      ],
      "metadata": {
        "id": "eAUGNJhNOg6q"
      }
    },
    {
      "cell_type": "code",
      "source": [],
      "metadata": {
        "id": "fSIA9606QNH0"
      },
      "execution_count": null,
      "outputs": []
    },
    {
      "cell_type": "markdown",
      "source": [
        "### Step 5: Evaluate the Model"
      ],
      "metadata": {
        "id": "-noS4X01Omfp"
      }
    },
    {
      "cell_type": "code",
      "source": [],
      "metadata": {
        "id": "xdeqy_N-QNfJ"
      },
      "execution_count": null,
      "outputs": []
    },
    {
      "cell_type": "markdown",
      "source": [
        "### Step 6: Interpretation"
      ],
      "metadata": {
        "id": "oLfq241IOqTF"
      }
    },
    {
      "cell_type": "markdown",
      "source": [],
      "metadata": {
        "id": "0amP100yQPcb"
      }
    },
    {
      "cell_type": "markdown",
      "source": [
        "##Challenge Problem: Reconstruct the Log-Likelihood Function from Predictions\n",
        "\n",
        "\n",
        "Use your logistic regression models predicted probabilities and true labels to compute the total log-likelihood\n"
      ],
      "metadata": {
        "id": "lWboTzEQOwtS"
      }
    }
  ]
}
