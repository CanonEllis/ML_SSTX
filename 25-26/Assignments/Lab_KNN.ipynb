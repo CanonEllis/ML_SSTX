{
  "nbformat": 4,
  "nbformat_minor": 0,
  "metadata": {
    "colab": {
      "provenance": []
    },
    "kernelspec": {
      "name": "python3",
      "display_name": "Python 3"
    },
    "language_info": {
      "name": "python"
    }
  },
  "cells": [
    {
      "cell_type": "markdown",
      "source": [
        "# KNN - K Nearest Neighbors\n",
        "##NAME:\n",
        "\n",
        "# Objectives\n",
        "- Write a business case for why the dataset you chose and why the knn classifier brings value by being applied\n",
        "\n",
        "- Select and prepare a dataset suitable for classification\n",
        "- Conduct exploratory data analysis (EDA)\n",
        "- Preprocess features (including scaling)\n",
        "- Implement a KNN classifier with cross-validation\n",
        "- Analyze model performance across different values of k\n",
        "-Reflect on the entire modeling process in a 600-word write-up"
      ],
      "metadata": {
        "id": "qgQqboYWSMC7"
      }
    },
    {
      "cell_type": "markdown",
      "source": [
        "# Part 1: Choose a Dataset"
      ],
      "metadata": {
        "id": "ItxIoyTzSPun"
      }
    },
    {
      "cell_type": "markdown",
      "source": [
        "# Part 2 : EDA (Exploratory Data Analysis)"
      ],
      "metadata": {
        "id": "u1c42J1bSi-m"
      }
    },
    {
      "cell_type": "markdown",
      "source": [
        "# Part 3: Preprocessing"
      ],
      "metadata": {
        "id": "OLmB4rW-SrIT"
      }
    },
    {
      "cell_type": "markdown",
      "source": [
        "# Part 4: Implement KNN"
      ],
      "metadata": {
        "id": "_j9VnvTOSthM"
      }
    },
    {
      "cell_type": "markdown",
      "source": [
        "# Part 5: Evaluation"
      ],
      "metadata": {
        "id": "ixSuv_ydS3EZ"
      }
    },
    {
      "cell_type": "markdown",
      "source": [
        "# Part 6: Interpretation (600 words)"
      ],
      "metadata": {
        "id": "S1NiZlvJStjq"
      }
    },
    {
      "cell_type": "markdown",
      "source": [
        "# Challenge Question:\n",
        "\n",
        "Implement Grid Search CV From Scratch\n",
        "\n",
        "Instead of using GridSearchCV from sklearn, write your own manual implementation.\n",
        "\n",
        "•\t**Do NOT use GridSearchCV, cross_val_score, or any CV-related tool from sklearn**\n",
        "\n",
        "You may use:\n",
        "\n",
        "•\tKNeighborsClassifier\n",
        "\n",
        "•\ttrain_test_split and accuracy_score\n",
        "\n",
        "•\tWrite your own loop to split data, train models, and average accuracy scores\n",
        "\n",
        "**SUBMISSION TO DO:**\n",
        "- Code for the Grid Search CV from scratch\n",
        "- Comments\n",
        "- Write up explaining what it does and Evaluating it"
      ],
      "metadata": {
        "id": "4zZbs6-3S_cB"
      }
    }
  ]
}