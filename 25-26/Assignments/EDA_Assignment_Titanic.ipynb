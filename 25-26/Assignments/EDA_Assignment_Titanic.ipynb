{
  "cells": [
    {
      "cell_type": "markdown",
      "id": "606a56c2",
      "metadata": {
        "id": "606a56c2"
      },
      "source": [
        "# Assignment: Exploratory Data Analysis (EDA)\n",
        "\n",
        "In this assignment, you'll explore the Titanic dataset using summary statistics and visualizations.\n",
        "Each section will ask you to run code and answer questions based on your observations.\n",
        "A challenge question at the end will combine concepts from multiple sections.\n"
      ]
    },
    {
      "cell_type": "markdown",
      "id": "e7f01513",
      "metadata": {
        "id": "e7f01513"
      },
      "source": [
        "## Step 1: Load the Data"
      ]
    },
    {
      "cell_type": "code",
      "execution_count": null,
      "id": "eeaf5b6d",
      "metadata": {
        "id": "eeaf5b6d"
      },
      "outputs": [],
      "source": [
        "import pandas as pd\n",
        "import matplotlib.pyplot as plt\n",
        "import seaborn as sns\n",
        "\n",
        "df = pd.read_csv(\"Titanic-Dataset.csv\")\n",
        "df.head()"
      ]
    },
    {
      "cell_type": "markdown",
      "id": "7f2dee92",
      "metadata": {
        "id": "7f2dee92"
      },
      "source": [
        "## Question 1: Summary Statistics\n",
        "\n",
        "**Task:** Use `.describe()` to view key summary statistics.\n",
        "\n",
        "**Reflection:** Look at the mean and standard deviation for `Age` and `Fare`. Are they centered or skewed?\n",
        "Which variables might contain outliers?"
      ]
    },
    {
      "cell_type": "code",
      "execution_count": null,
      "id": "00a71f93",
      "metadata": {
        "id": "00a71f93"
      },
      "outputs": [],
      "source": [
        "df.describe()"
      ]
    },
    {
      "cell_type": "markdown",
      "id": "bda57da7",
      "metadata": {
        "id": "bda57da7"
      },
      "source": [
        "## Question 2: Histogram of Age\n",
        "\n",
        "**Task:** Create a histogram for the `Age` column.\n",
        "\n",
        "**Reflection:** Describe the shape of the distribution. Is it left- or right-skewed? Are there any noticeable gaps?"
      ]
    },
    {
      "cell_type": "code",
      "execution_count": null,
      "id": "ef8021e4",
      "metadata": {
        "id": "ef8021e4"
      },
      "outputs": [],
      "source": []
    },
    {
      "cell_type": "markdown",
      "id": "e1681aed",
      "metadata": {
        "id": "e1681aed"
      },
      "source": [
        "## Question 3: Boxplot of Fare\n",
        "\n",
        "**Task:** Create a boxplot for `Fare`.\n",
        "\n",
        "**Reflection:** Are there any clear outliers? What does the range of the Fare column suggest about ticket prices?"
      ]
    },
    {
      "cell_type": "code",
      "execution_count": null,
      "id": "acc70283",
      "metadata": {
        "id": "acc70283"
      },
      "outputs": [],
      "source": []
    },
    {
      "cell_type": "markdown",
      "id": "b56bf008",
      "metadata": {
        "id": "b56bf008"
      },
      "source": [
        "## Question 4: Gender Distribution\n",
        "\n",
        "**Task:** Create a bar chart or countplot for `Sex`.\n",
        "\n",
        "**Reflection:** Which gender was more common in this dataset? How might this influence survival rates?"
      ]
    },
    {
      "cell_type": "code",
      "execution_count": null,
      "id": "794e54c2",
      "metadata": {
        "id": "794e54c2"
      },
      "outputs": [],
      "source": []
    },
    {
      "cell_type": "markdown",
      "id": "2e13ce70",
      "metadata": {
        "id": "2e13ce70"
      },
      "source": [
        "## Question 5: Fare by Class\n",
        "\n",
        "**Task:** Create a boxplot of `Fare` grouped by `Pclass`.\n",
        "\n",
        "**Reflection:** Which class had the highest average fare? Which class had the most variation in prices?"
      ]
    },
    {
      "cell_type": "code",
      "execution_count": null,
      "id": "45999c1d",
      "metadata": {
        "id": "45999c1d"
      },
      "outputs": [],
      "source": []
    },
    {
      "cell_type": "markdown",
      "id": "ec5fdac3",
      "metadata": {
        "id": "ec5fdac3"
      },
      "source": [
        "## Challenge Question: Survival by Gender and Class\n",
        "\n",
        "**Task:** Create a stacked bar plot showing the survival proportions for combinations of `Sex` and `Pclass`.\n",
        "\n",
        "**Reflection:** Which group had the highest survival rate? Which had the lowest? What does this tell you about social factors?"
      ]
    },
    {
      "cell_type": "code",
      "execution_count": null,
      "id": "1481dcf3",
      "metadata": {
        "id": "1481dcf3"
      },
      "outputs": [],
      "source": []
    },
    {
      "cell_type": "markdown",
      "id": "9bfcb7d6",
      "metadata": {
        "id": "9bfcb7d6"
      },
      "source": [
        "## Final Thoughts\n",
        "\n",
        "In this section of the lab, write a few sentences about your discoveries through this lab.\n",
        "\n",
        "\n",
        "\n",
        "What are some inferences we can make from the graphs and data?"
      ]
    }
  ],
  "metadata": {
    "colab": {
      "provenance": []
    },
    "language_info": {
      "name": "python"
    },
    "kernelspec": {
      "name": "python3",
      "display_name": "Python 3"
    }
  },
  "nbformat": 4,
  "nbformat_minor": 5
}