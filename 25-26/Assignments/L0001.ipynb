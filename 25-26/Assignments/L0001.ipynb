{
  "nbformat": 4,
  "nbformat_minor": 5,
  "metadata": {
    "colab": {
      "provenance": []
    },
    "kernelspec": {
      "name": "python3",
      "display_name": "Python 3"
    },
    "language_info": {
      "name": "python"
    }
  },
  "cells": [
    {
      "cell_type": "markdown",
      "metadata": {
        "id": "view-in-github"
      },
      "source": [
        "<a href=\"https://colab.research.google.com/github/googlecolab/colabtools/blob/main/notebooks/colab-github-demo.ipynb\" target=\"_parent\"><img src=\"https://colab.research.google.com/assets/colab-badge.svg\" alt=\"Open In Colab\"/></a>"
      ],
      "id": "view-in-github"
    },
    {
      "cell_type": "markdown",
      "source": [
        "#Assignment001: The Titanic Dataset\n",
        "---"
      ],
      "metadata": {
        "id": "e4468205-728b-4022-b5f7-628d05a41a4a"
      },
      "id": "e4468205-728b-4022-b5f7-628d05a41a4a"
    },
    {
      "cell_type": "markdown",
      "source": [
        "## Lesson Plan: The Titanic Data Story 🚢\n",
        "\n",
        "### Part 1: The Basics (The Titanic Story)\n",
        "\n",
        "* **Introduction to pandas:** What is a **DataFrame**? Think of it like a table or a spreadsheet in Excel. A **DataFrame** is a 2D labeled data structure, like a spreadsheet with rows and columns. A single column is called a **Series**.\n",
        "* **Loading Data:** We'll use `pd.read_csv()` to load the `titanic_dataset.csv` file into a DataFrame. This is the first step in any data analysis project.\n",
        "* **Initial Data Inspection:** We'll use key methods to get a feel for our data:\n",
        "    * `.head()` to get a quick preview of the top rows.\n",
        "    * `.info()` to check data types and see if we have any missing values.\n",
        "    * `.describe()` to get a statistical summary of the numerical columns.\n",
        "\n",
        "### Part 2: Data Selection & Filtering (Finding Passengers)\n",
        "\n",
        "* **Selecting Columns:** We can grab one or more columns from our DataFrame to focus on specific data.\n",
        "    * Single column: `df['ColumnName']`\n",
        "    * Multiple columns: `df[['Col1', 'Col2']]`\n",
        "* **Filtering Rows:** This is how we find specific groups of data that meet a certain condition. For example, finding all male passengers: `df[df['Sex'] == 'male']`.\n",
        "* **Combining Conditions:** We can use `&` (and) and `|` (or) to create more complex filters.\n",
        "\n",
        "### Part 3: Data Cleaning & Manipulation (Getting the Data Right)\n",
        "\n",
        "* **Handling Missing Values:** Real-world data is messy! We'll learn how to identify missing values with `.isna().sum()` and how to deal with them by filling them in with `.fillna()` or dropping them with `.dropna()`.\n",
        "* **Creating New Columns:** We can add new columns to our DataFrame based on calculations from existing ones. This is a powerful way to add new insights.\n",
        "\n",
        "### Part 4: Grouping and Aggregation (Summarizing Insights)\n",
        "\n",
        "* **Introduction to `groupby()`:** This is one of the most powerful tools in pandas. It allows us to \"split\" the data into groups based on a certain column, \"apply\" a function (like a sum or average), and \"combine\" the results.\n",
        "* **Practical Examples:** We can use `groupby()` to answer questions like, \"What was the survival rate for men versus women?\"\n",
        "\n",
        "---"
      ],
      "metadata": {
        "id": "90d1f71f-0a0e-436f-b253-157956b6271c"
      },
      "id": "90d1f71f-0a0e-436f-b253-157956b6271c"
    },
    {
      "cell_type": "markdown",
      "source": [
        "## Assignment: Titanic Data Analysis 🚢\n",
        "\n",
        "This assignment will test your skills in data loading, cleaning, selection, and analysis. All the questions can be answered using the `train.csv` file.\n",
        "\n",
        "**Goal:** Use the provided dataset to uncover interesting facts about the Titanic passengers.\n",
        "\n",
        "### 1. Setup\n",
        "\n",
        "First, import pandas and load the dataset into a DataFrame.\n"
      ],
      "metadata": {
        "id": "902d1896-1c25-45d6-ba09-247571128362"
      },
      "id": "902d1896-1c25-45d6-ba09-247571128362"
    },
    {
      "cell_type": "code",
      "source": [
        "import pandas as pd\n"
      ],
      "metadata": {
        "id": "b1834ed8-3a9d-4299-9685-6490656a42a0"
      },
      "execution_count": null,
      "outputs": [],
      "id": "b1834ed8-3a9d-4299-9685-6490656a42a0"
    },
    {
      "cell_type": "markdown",
      "source": [
        "### 2. Data Inspection\n",
        "\n",
        "Answer the following questions by inspecting the DataFrame.\n",
        "\n",
        "* How many rows and columns are in the dataset?\n",
        "* What are the data types of each column?\n",
        "* Are there any missing values? If so, which columns are they in and how many are missing in each?"
      ],
      "metadata": {
        "id": "c138b301-4470-4f81-872f-52467d3b36df"
      },
      "id": "c138b301-4470-4f81-872f-52467d3b36df"
    },
    {
      "cell_type": "code",
      "source": [
        "# Your code here"
      ],
      "metadata": {
        "id": "673cf764-88fe-4a2a-b605-e325087a1954"
      },
      "execution_count": null,
      "outputs": [],
      "id": "673cf764-88fe-4a2a-b605-e325087a1954"
    },
    {
      "cell_type": "markdown",
      "source": [
        "### 3. Basic Data Selection & Filtering\n",
        "\n",
        "* Find and display the first 10 rows of the dataset.\n",
        "* Select only the `Name` and `Age` columns and display the first 5 rows.\n",
        "* Filter the DataFrame to show only the passengers who survived (`Survived` column equals 1). How many rows are in this filtered DataFrame?"
      ],
      "metadata": {
        "id": "68f9b964-b0e5-474c-87d2-069677355152"
      },
      "id": "68f9b964-b0e5-474c-87d2-069677355152"
    },
    {
      "cell_type": "code",
      "source": [
        "# Your code here"
      ],
      "metadata": {
        "id": "42323ef4-02eb-452f-8a03-9d0a64939a04"
      },
      "execution_count": null,
      "outputs": [],
      "id": "42323ef4-02eb-452f-8a03-9d0a64939a04"
    },
    {
      "cell_type": "markdown",
      "source": [
        "### 4. Handling Missing Values\n",
        "\n",
        "* Calculate the average `Age` of all passengers.\n",
        "* Fill the missing values in the `Age` column with the average `Age` you just calculated.\n",
        "* Check to confirm that there are no longer any missing values in the `Age` column."
      ],
      "metadata": {
        "id": "010c71ed-a110-47b2-ac63-47a32c256ff2"
      },
      "id": "010c71ed-a110-47b2-ac63-47a32c256ff2"
    },
    {
      "cell_type": "code",
      "source": [
        "# Your code here"
      ],
      "metadata": {
        "id": "b3e32e8b-b155-46f0-b6ab-e51c863afb57"
      },
      "execution_count": null,
      "outputs": [],
      "id": "b3e32e8b-b155-46f0-b6ab-e51c863afb57"
    },
    {
      "cell_type": "markdown",
      "source": [
        "### 5. Grouping and Aggregation\n",
        "\n",
        "* Calculate the survival rate (mean of `Survived`) for male vs. female passengers.\n",
        "* Calculate the average `Fare` paid by passengers in each `Pclass` (passenger class).\n",
        "* Create a new column called `IsAlone` that is `1` if a passenger has no siblings/spouses (`SibSp`) and no parents/children (`Parch`), and `0` otherwise."
      ],
      "metadata": {
        "id": "4a282436-f3b1-4f1d-93d3-1d07c0883b1d"
      },
      "id": "4a282436-f3b1-4f1d-93d3-1d07c0883b1d"
    },
    {
      "cell_type": "code",
      "source": [
        "# Your code here"
      ],
      "metadata": {
        "id": "4ec54198-d3d6-444a-89a5-7164b301c272"
      },
      "execution_count": null,
      "outputs": [],
      "id": "4ec54198-d3d6-444a-89a5-7164b301c272"
    },
    {
      "cell_type": "markdown",
      "source": [
        "---"
      ],
      "metadata": {
        "id": "c7112349-3467-427f-94d7-dd9e2f1e2f75"
      },
      "id": "c7112349-3467-427f-94d7-dd9e2f1e2f75"
    },
    {
      "cell_type": "markdown",
      "source": [
        "### Final Challenge Question\n",
        "\n",
        "This is the final, multi-step challenge. Use a combination of everything you've learned.\n",
        "\n",
        "**Question:** Among the passengers who paid a **fare** greater than the median fare, what is the survival rate for each passenger class, broken down by gender?\n",
        "\n",
        "**Hint:** This will require you to:\n",
        "1.  Calculate the median fare.\n",
        "2.  Filter the DataFrame to include only passengers who paid more than this median fare.\n",
        "3.  Group the filtered data by both `Pclass` and `Sex`.\n",
        "4.  Calculate the mean of the `Survived` column for each of these groups."
      ],
      "metadata": {
        "id": "936d01d4-862d-450f-a36b-73a7c66d21b7"
      },
      "id": "936d01d4-862d-450f-a36b-73a7c66d21b7"
    },
    {
      "cell_type": "code",
      "source": [
        "# Your code here"
      ],
      "metadata": {
        "id": "b0507d8b-ddf0-466d-a719-75ac46f2c25e"
      },
      "execution_count": null,
      "outputs": [],
      "id": "b0507d8b-ddf0-466d-a719-75ac46f2c25e"
    }
  ]
}