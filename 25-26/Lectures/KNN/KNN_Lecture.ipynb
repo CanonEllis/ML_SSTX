{
 "cells": [
  {
   "cell_type": "markdown",
   "id": "04d5b63b",
   "metadata": {},
   "source": [
    "# K-Nearest Neighbors (KNN) Classification with the Iris Dataset\n",
    "\n",
    "In this notebook, we will explore the Iris flower dataset, perform EDA (Exploratory Data Analysis), and implement a K-Nearest Neighbors (KNN) classifier using scikit-learn. \n",
    "We will also visualize the decision boundaries for different values of K."
   ]
  },
  {
   "cell_type": "markdown",
   "id": "0f3a114f",
   "metadata": {},
   "source": [
    "## 1 Import Libraries"
   ]
  },
  {
   "cell_type": "code",
   "execution_count": null,
   "id": "995e18e5",
   "metadata": {},
   "outputs": [],
   "source": [
    "# Data manipulation\n",
    "import pandas as pd\n",
    "import numpy as np\n",
    "\n",
    "# Visualization\n",
    "import matplotlib.pyplot as plt\n",
    "import seaborn as sns\n",
    "\n",
    "# Machine Learning\n",
    "from sklearn.datasets import load_iris\n",
    "from sklearn.model_selection import train_test_split\n",
    "from sklearn.preprocessing import StandardScaler\n",
    "from sklearn.neighbors import KNeighborsClassifier\n",
    "from sklearn.metrics import accuracy_score, confusion_matrix, classification_report\n",
    "\n",
    "# For decision boundary visualization\n",
    "from matplotlib.colors import ListedColormap"
   ]
  },
  {
   "cell_type": "markdown",
   "id": "7a5f750a",
   "metadata": {},
   "source": [
    "## 2 Load the Iris Dataset"
   ]
  },
  {
   "cell_type": "code",
   "execution_count": null,
   "id": "049a5b6f",
   "metadata": {},
   "outputs": [],
   "source": [
    "# Load the dataset\n",
    "iris = load_iris()\n",
    "X = iris.data\n",
    "y = iris.target\n",
    "\n",
    "# Create a DataFrame for easier EDA\n",
    "df = pd.DataFrame(X, columns=iris.feature_names)\n",
    "df['species'] = pd.Categorical.from_codes(y, iris.target_names)\n",
    "\n",
    "df.head()"
   ]
  },
  {
   "cell_type": "markdown",
   "id": "718cfef3",
   "metadata": {},
   "source": [
    "### Description\n",
    "We have 150 samples of Iris flowers divided into three species (`setosa`, `versicolor`, `virginica`) with four features: \n",
    "- Sepal Length\n",
    "- Sepal Width\n",
    "- Petal Length\n",
    "- Petal Width"
   ]
  },
  {
   "cell_type": "markdown",
   "id": "a12528ef",
   "metadata": {},
   "source": [
    "## 3 Exploratory Data Analysis (EDA)"
   ]
  },
  {
   "cell_type": "code",
   "execution_count": null,
   "id": "f8c54aae",
   "metadata": {},
   "outputs": [],
   "source": [
    "# Check for missing values\n",
    "df.info()"
   ]
  },
  {
   "cell_type": "markdown",
   "id": "e21adeb5",
   "metadata": {},
   "source": [
    "No missing values. Good!"
   ]
  },
  {
   "cell_type": "code",
   "execution_count": null,
   "id": "0e27a6cb",
   "metadata": {},
   "outputs": [],
   "source": [
    "# Basic statistics\n",
    "df.describe()"
   ]
  },
  {
   "cell_type": "markdown",
   "id": "ee1f7d19",
   "metadata": {},
   "source": [
    "### Pairplot\n",
    "Let's visualize relationships between features colored by species."
   ]
  },
  {
   "cell_type": "code",
   "execution_count": null,
   "id": "bb7c7a89",
   "metadata": {},
   "outputs": [],
   "source": [
    "sns.pairplot(df, hue='species', palette='Set1')\n",
    "plt.suptitle('Pairplot of Iris Features', y=1.02)\n",
    "plt.show()"
   ]
  },
  {
   "cell_type": "markdown",
   "id": "701d63c5",
   "metadata": {},
   "source": [
    "### Correlation Heatmap\n",
    "Check how features are correlated."
   ]
  },
  {
   "cell_type": "code",
   "execution_count": null,
   "id": "31821ab7",
   "metadata": {},
   "outputs": [],
   "source": [
    "plt.figure(figsize=(8,6))\n",
    "sns.heatmap(df.corr(), annot=True, cmap='coolwarm')\n",
    "plt.title('Feature Correlation Heatmap')\n",
    "plt.show()"
   ]
  },
  {
   "cell_type": "markdown",
   "id": "d10454b6",
   "metadata": {},
   "source": [
    "## 4 Split Data and Scale Features"
   ]
  },
  {
   "cell_type": "code",
   "execution_count": null,
   "id": "9a5ee3ec",
   "metadata": {},
   "outputs": [],
   "source": [
    "# Use only first two features for easy 2D decision boundary visualization\n",
    "X_vis = X[:, :2]\n",
    "\n",
    "# Split the dataset\n",
    "X_train, X_test, y_train, y_test = train_test_split(X_vis, y, test_size=0.3, random_state=42, stratify=y)\n",
    "\n",
    "# Standardize features\n",
    "scaler = StandardScaler()\n",
    "X_train_scaled = scaler.fit_transform(X_train)\n",
    "X_test_scaled = scaler.transform(X_test)"
   ]
  },
  {
   "cell_type": "markdown",
   "id": "0fcf27a8",
   "metadata": {},
   "source": [
    "## 5 Train KNN Classifier and Evaluate"
   ]
  },
  {
   "cell_type": "code",
   "execution_count": null,
   "id": "0627c522",
   "metadata": {},
   "outputs": [],
   "source": [
    "k = 3  # Example K value\n",
    "knn = KNeighborsClassifier(n_neighbors=k)\n",
    "knn.fit(X_train_scaled, y_train)\n",
    "y_pred = knn.predict(X_test_scaled)\n",
    "\n",
    "print(f'Accuracy with k={k}:', accuracy_score(y_test, y_pred))\n",
    "print('\\nConfusion Matrix:\\n', confusion_matrix(y_test, y_pred))\n",
    "print('\\nClassification Report:\\n', classification_report(y_test, y_pred))"
   ]
  },
  {
   "cell_type": "markdown",
   "id": "cd5762d5",
   "metadata": {},
   "source": [
    "## 6 Visualize Decision Boundaries\n",
    "We will plot decision boundaries for k=1, 5, and 15 to see how the choice of K affects the model."
   ]
  },
  {
   "cell_type": "code",
   "execution_count": null,
   "id": "e461624b",
   "metadata": {},
   "outputs": [],
   "source": [
    "def plot_decision_boundary(X, y, k):\n",
    "    knn = KNeighborsClassifier(n_neighbors=k)\n",
    "    knn.fit(X, y)\n",
    "    \n",
    "    # Create meshgrid\n",
    "    x_min, x_max = X[:, 0].min() - 1, X[:, 0].max() + 1\n",
    "    y_min, y_max = X[:, 1].min() - 1, X[:, 1].max() + 1\n",
    "    xx, yy = np.meshgrid(np.arange(x_min, x_max, 0.02),\n",
    "                         np.arange(y_min, y_max, 0.02))\n",
    "    Z = knn.predict(np.c_[xx.ravel(), yy.ravel()])\n",
    "    Z = Z.reshape(xx.shape)\n",
    "    \n",
    "    plt.figure(figsize=(6,5))\n",
    "    cmap_light = ListedColormap(['#FFAAAA', '#AAFFAA', '#AAAAFF'])\n",
    "    cmap_bold = ListedColormap(['#FF0000', '#00FF00', '#0000FF'])\n",
    "    plt.contourf(xx, yy, Z, alpha=0.3, cmap=cmap_light)\n",
    "    plt.scatter(X[:, 0], X[:, 1], c=y, cmap=cmap_bold, edgecolor='k', s=50)\n",
    "    plt.xlabel('Sepal length (standardized)')\n",
    "    plt.ylabel('Sepal width (standardized)')\n",
    "    plt.title(f'Decision Boundary for k={k}')\n",
    "    plt.show()\n",
    "\n",
    "# Plot for different values of K\n",
    "for k_val in [1, 5, 15]:\n",
    "    plot_decision_boundary(X_train_scaled, y_train, k_val)"
   ]
  },
  {
   "cell_type": "markdown",
   "id": "d99bd03b",
   "metadata": {},
   "source": [
    "### Explanation of Decision Boundaries\n",
    "- **k=1**: Very flexible, may overfit to noise.\n",
    "- **k=5**: Balanced, smoother boundaries, usually good generalization.\n",
    "- **k=15**: Very smooth, may underfit, losing detail between classes."
   ]
  },
  {
   "cell_type": "markdown",
   "id": "10a3f027",
   "metadata": {},
   "source": [
    "## Summary\n",
    "- We performed **EDA** to understand the Iris dataset.\n",
    "- Implemented **KNN classifier** using scikit-learn.\n",
    "- Visualized **decision boundaries** for different values of K.\n",
    "- Observed how K affects overfitting/underfitting.\n",
    "\n",
    "This notebook demonstrates a complete workflow for KNN classification and provides visual intuition for how K impacts model behavior."
   ]
  }
 ],
 "metadata": {
  "kernelspec": {
   "display_name": "Python 3",
   "name": "python3"
  },
  "language_info": {
   "name": "python",
   "version": "3.13"
  }
 },
 "nbformat": 4,
 "nbformat_minor": 5
}
