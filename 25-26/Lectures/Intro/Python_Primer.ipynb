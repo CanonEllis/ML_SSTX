{
  "nbformat": 4,
  "nbformat_minor": 0,
  "metadata": {
    "colab": {
      "provenance": []
    },
    "kernelspec": {
      "name": "python3",
      "display_name": "Python 3"
    },
    "language_info": {
      "name": "python"
    }
  },
  "cells": [
    {
      "cell_type": "markdown",
      "source": [
        "# Python Primer\n",
        "This notebook will be used to give a quick run down of python and its functions\n",
        "\n"
      ],
      "metadata": {
        "id": "2TTcu5ry-w1a"
      }
    },
    {
      "cell_type": "markdown",
      "source": [
        "# Variables"
      ],
      "metadata": {
        "id": "TtGiZaNDwOBR"
      }
    },
    {
      "cell_type": "markdown",
      "source": [
        "## Integer variable\n"
      ],
      "metadata": {
        "id": "5bt2nicXOvUD"
      }
    },
    {
      "cell_type": "code",
      "execution_count": null,
      "metadata": {
        "id": "r5W22YjEwD1Z",
        "colab": {
          "base_uri": "https://localhost:8080/"
        },
        "outputId": "96f37d9e-116d-4af7-fce6-8aae2f02f76d"
      },
      "outputs": [
        {
          "output_type": "stream",
          "name": "stdout",
          "text": [
            "Age: 30, Type: <class 'int'>\n"
          ]
        }
      ],
      "source": [
        "# Integer variable\n",
        "age = 30\n",
        "print(f\"Age: {age}, Type: {type(age)}\")"
      ]
    },
    {
      "cell_type": "markdown",
      "source": [
        "## Float variable\n"
      ],
      "metadata": {
        "id": "yTqRGiBiOxHj"
      }
    },
    {
      "cell_type": "code",
      "source": [
        "# Float variable\n",
        "price = 19.99\n",
        "print(f\"Price: {price}, Type: {type(price)}\")"
      ],
      "metadata": {
        "id": "RhLoVGngwIu1",
        "colab": {
          "base_uri": "https://localhost:8080/"
        },
        "outputId": "52c920cf-ff8b-40a5-ebb7-8f35d8fdb7b5"
      },
      "execution_count": null,
      "outputs": [
        {
          "output_type": "stream",
          "name": "stdout",
          "text": [
            "Price: 19.99, Type: <class 'float'>\n"
          ]
        }
      ]
    },
    {
      "cell_type": "markdown",
      "source": [
        "## String Variable"
      ],
      "metadata": {
        "id": "CAHjo9pYOzas"
      }
    },
    {
      "cell_type": "code",
      "source": [
        "# String variable\n",
        "name = \"Alice\"\n",
        "print(f\"Name: {name}, Type: {type(name)}\")\n"
      ],
      "metadata": {
        "id": "Elqv-mVbwKTg",
        "colab": {
          "base_uri": "https://localhost:8080/"
        },
        "outputId": "e7ce31a3-9519-4287-9165-280aad7c1ca3"
      },
      "execution_count": null,
      "outputs": [
        {
          "output_type": "stream",
          "name": "stdout",
          "text": [
            "Name: Alice, Type: <class 'str'>\n"
          ]
        }
      ]
    },
    {
      "cell_type": "markdown",
      "source": [
        "## Boolean variable"
      ],
      "metadata": {
        "id": "R6M5LRZoO33K"
      }
    },
    {
      "cell_type": "code",
      "source": [
        "# Boolean variable\n",
        "is_student = True\n",
        "print(f\"Is Student: {is_student}, Type: {type(is_student)}\")"
      ],
      "metadata": {
        "id": "FfrVcvt6wLqB",
        "colab": {
          "base_uri": "https://localhost:8080/"
        },
        "outputId": "2d3c4c4c-b24f-402e-8d15-4aebb6343cef"
      },
      "execution_count": null,
      "outputs": [
        {
          "output_type": "stream",
          "name": "stdout",
          "text": [
            "Is Student: True, Type: <class 'bool'>\n"
          ]
        }
      ]
    },
    {
      "cell_type": "markdown",
      "source": [
        "# Lists (creation, indexing, common methods)"
      ],
      "metadata": {
        "id": "cgxS5CxcwTQT"
      }
    },
    {
      "cell_type": "markdown",
      "source": [
        "## Create a list"
      ],
      "metadata": {
        "id": "k_goaNvrw7GJ"
      }
    },
    {
      "cell_type": "code",
      "source": [
        "# Create a list\n",
        "fruits = [\"apple\", \"banana\", \"cherry\"]\n",
        "print(f\"Original list: {fruits}\")"
      ],
      "metadata": {
        "colab": {
          "base_uri": "https://localhost:8080/"
        },
        "id": "qfyV7k_fwNLC",
        "outputId": "18f3bede-e410-4e13-977e-e1d4acdf0d18"
      },
      "execution_count": null,
      "outputs": [
        {
          "output_type": "stream",
          "name": "stdout",
          "text": [
            "Original list: ['apple', 'banana', 'cherry']\n"
          ]
        }
      ]
    },
    {
      "cell_type": "markdown",
      "source": [
        "## Access elements by index"
      ],
      "metadata": {
        "id": "9YVBzlDKwzKZ"
      }
    },
    {
      "cell_type": "code",
      "source": [
        "# Access elements by index (0-based)\n",
        "print(f\"First fruit: {fruits[0]}\")\n",
        "print(f\"Last fruit: {fruits[-1]}\")\n"
      ],
      "metadata": {
        "id": "ygr7rs7owvJL",
        "colab": {
          "base_uri": "https://localhost:8080/"
        },
        "outputId": "a3efa972-5f64-4c81-bab1-29c141e0928d"
      },
      "execution_count": null,
      "outputs": [
        {
          "output_type": "stream",
          "name": "stdout",
          "text": [
            "First fruit: apple\n",
            "Last fruit: cherry\n"
          ]
        }
      ]
    },
    {
      "cell_type": "markdown",
      "source": [
        "## Add an Element"
      ],
      "metadata": {
        "id": "MpvDHGBCw3Q3"
      }
    },
    {
      "cell_type": "code",
      "source": [
        "# Add an element\n",
        "fruits.append(\"orange\")\n",
        "print(f\"List after adding: {fruits}\")"
      ],
      "metadata": {
        "id": "HH1-hwJFwwh-",
        "colab": {
          "base_uri": "https://localhost:8080/"
        },
        "outputId": "8399bfa0-f1e9-4d18-9cc6-f46c8cadffa6"
      },
      "execution_count": null,
      "outputs": [
        {
          "output_type": "stream",
          "name": "stdout",
          "text": [
            "List after adding: ['apple', 'banana', 'cherry', 'orange']\n"
          ]
        }
      ]
    },
    {
      "cell_type": "markdown",
      "source": [
        "## Remove an element\n"
      ],
      "metadata": {
        "id": "GEf0fupexEKn"
      }
    },
    {
      "cell_type": "code",
      "source": [
        "# Remove an element\n",
        "fruits.remove(\"banana\")\n",
        "print(f\"List after removing: {fruits}\")"
      ],
      "metadata": {
        "id": "qSnGuGlvxHvg",
        "colab": {
          "base_uri": "https://localhost:8080/"
        },
        "outputId": "26bfba1c-bf08-4c5d-df64-27b181514ec1"
      },
      "execution_count": null,
      "outputs": [
        {
          "output_type": "stream",
          "name": "stdout",
          "text": [
            "List after removing: ['apple', 'cherry', 'orange']\n"
          ]
        }
      ]
    },
    {
      "cell_type": "markdown",
      "source": [
        "## Slice a List"
      ],
      "metadata": {
        "id": "zYinutxAxJ29"
      }
    },
    {
      "cell_type": "code",
      "source": [
        "# Slice a list\n",
        "first_two = fruits[0:2] # or fruits[:2]\n",
        "print(f\"First two fruits: {first_two}\")"
      ],
      "metadata": {
        "id": "ajR4IAR0xJ_J",
        "colab": {
          "base_uri": "https://localhost:8080/"
        },
        "outputId": "bfd3b272-d772-4a43-810b-0e613a05166d"
      },
      "execution_count": null,
      "outputs": [
        {
          "output_type": "stream",
          "name": "stdout",
          "text": [
            "First two fruits: ['apple', 'cherry']\n"
          ]
        }
      ]
    },
    {
      "cell_type": "markdown",
      "source": [
        "# Dictionaries (creation, accessing values)"
      ],
      "metadata": {
        "id": "OrD0_jsxxKJx"
      }
    },
    {
      "cell_type": "markdown",
      "source": [
        "## Create a dictionary"
      ],
      "metadata": {
        "id": "uTjYRiD6xTed"
      }
    },
    {
      "cell_type": "code",
      "source": [
        "# Create a dictionary\n",
        "person = {\n",
        "    \"name\": \"Bob\",\n",
        "    \"age\": 25,\n",
        "    \"city\": \"New York\"\n",
        "}\n",
        "print(f\"Person dictionary: {person}\")"
      ],
      "metadata": {
        "id": "yfqzOdi0xKTg",
        "colab": {
          "base_uri": "https://localhost:8080/"
        },
        "outputId": "c92cea1d-a775-4216-cc3d-79a54ab634b8"
      },
      "execution_count": null,
      "outputs": [
        {
          "output_type": "stream",
          "name": "stdout",
          "text": [
            "Person dictionary: {'name': 'Bob', 'age': 25, 'city': 'New York'}\n"
          ]
        }
      ]
    },
    {
      "cell_type": "markdown",
      "source": [
        "## Access values by key\n"
      ],
      "metadata": {
        "id": "4sNaJbjfxKf8"
      }
    },
    {
      "cell_type": "code",
      "source": [
        "# Access values by key\n",
        "print(f\"Person's name: {person['name']}\")"
      ],
      "metadata": {
        "id": "7zjP0g0mxKnC",
        "colab": {
          "base_uri": "https://localhost:8080/"
        },
        "outputId": "2611d896-8e47-47df-cc3f-abb300ee8006"
      },
      "execution_count": null,
      "outputs": [
        {
          "output_type": "stream",
          "name": "stdout",
          "text": [
            "Person's name: Bob\n"
          ]
        }
      ]
    },
    {
      "cell_type": "markdown",
      "source": [
        "## Add a new key-value pair"
      ],
      "metadata": {
        "id": "8lmGLpr9xKwK"
      }
    },
    {
      "cell_type": "code",
      "source": [
        "person[\"occupation\"] = \"Engineer\"\n",
        "print(f\"Person after adding occupation: {person}\")"
      ],
      "metadata": {
        "id": "zshe3ZIlxK4M",
        "colab": {
          "base_uri": "https://localhost:8080/"
        },
        "outputId": "b4af319c-79ff-4517-8f87-946680744965"
      },
      "execution_count": null,
      "outputs": [
        {
          "output_type": "stream",
          "name": "stdout",
          "text": [
            "Person after adding occupation: {'name': 'Bob', 'age': 25, 'city': 'New York', 'occupation': 'Engineer'}\n"
          ]
        }
      ]
    },
    {
      "cell_type": "markdown",
      "source": [
        "## Modify a value"
      ],
      "metadata": {
        "id": "pdkeR3Jhxrmz"
      }
    },
    {
      "cell_type": "code",
      "source": [
        "person[\"age\"] = 26\n",
        "print(f\"Person after updating age: {person}\")\n"
      ],
      "metadata": {
        "id": "u7etSOOGxrtY",
        "colab": {
          "base_uri": "https://localhost:8080/"
        },
        "outputId": "c38c3564-c5da-4b1d-8643-49d8fe11adbc"
      },
      "execution_count": null,
      "outputs": [
        {
          "output_type": "stream",
          "name": "stdout",
          "text": [
            "Person after updating age: {'name': 'Bob', 'age': 26, 'city': 'New York', 'occupation': 'Engineer'}\n"
          ]
        }
      ]
    },
    {
      "cell_type": "markdown",
      "source": [
        "# Conditional statements (if/else)"
      ],
      "metadata": {
        "id": "6qNik7ydO9RM"
      }
    },
    {
      "cell_type": "code",
      "source": [
        "score = 85\n",
        "\n",
        "if score >= 90:\n",
        "    print(\"Grade: A\")\n",
        "elif score >= 80:\n",
        "    print(\"Grade: B\")\n",
        "else:\n",
        "    print(\"Grade: C or lower\")"
      ],
      "metadata": {
        "id": "axRXHmr2PEQm"
      },
      "execution_count": null,
      "outputs": []
    },
    {
      "cell_type": "markdown",
      "source": [
        "# Loops (for loops)"
      ],
      "metadata": {
        "id": "m7a52h3JPEZw"
      }
    },
    {
      "cell_type": "markdown",
      "source": [
        "## Loop through a list\n"
      ],
      "metadata": {
        "id": "3xnDTW52PEtd"
      }
    },
    {
      "cell_type": "code",
      "source": [
        "# Loop through a list\n",
        "items = [\"pen\", \"notebook\", \"eraser\"]\n",
        "for item in items:\n",
        "    print(f\"Current item: {item}\")"
      ],
      "metadata": {
        "id": "5pMenIErPEjm",
        "colab": {
          "base_uri": "https://localhost:8080/"
        },
        "outputId": "b1ee8de5-b557-4587-daf8-70ad528c3c2f"
      },
      "execution_count": null,
      "outputs": [
        {
          "output_type": "stream",
          "name": "stdout",
          "text": [
            "Current item: pen\n",
            "Current item: notebook\n",
            "Current item: eraser\n"
          ]
        }
      ]
    },
    {
      "cell_type": "markdown",
      "source": [
        "## Loop with range (for a specific number of times)"
      ],
      "metadata": {
        "id": "xb74969YPE-x"
      }
    },
    {
      "cell_type": "code",
      "source": [
        "# Loop with range (for a specific number of times)\n",
        "for i in range(3): # 0, 1, 2\n",
        "    print(f\"Iteration {i+1}\")"
      ],
      "metadata": {
        "id": "haSNbuv5PE1Z",
        "colab": {
          "base_uri": "https://localhost:8080/"
        },
        "outputId": "7d8462dd-df2c-4fe7-86ac-1919c086aeb2"
      },
      "execution_count": null,
      "outputs": [
        {
          "output_type": "stream",
          "name": "stdout",
          "text": [
            "Iteration 1\n",
            "Iteration 2\n",
            "Iteration 3\n"
          ]
        }
      ]
    },
    {
      "cell_type": "markdown",
      "source": [
        "# Functions (defining and calling simple functions)"
      ],
      "metadata": {
        "id": "rPQMZCoWPZB1"
      }
    },
    {
      "cell_type": "markdown",
      "source": [
        "## Define a function"
      ],
      "metadata": {
        "id": "iWspou5zPcEo"
      }
    },
    {
      "cell_type": "code",
      "source": [
        "# Define a function\n",
        "def greet(name):\n",
        "    return f\"Hello, {name}!\""
      ],
      "metadata": {
        "id": "P4a-hcrOPcWR"
      },
      "execution_count": null,
      "outputs": []
    },
    {
      "cell_type": "markdown",
      "source": [
        "## Call the function"
      ],
      "metadata": {
        "id": "Ah5sYqlhPclO"
      }
    },
    {
      "cell_type": "code",
      "source": [
        "message = greet(\"Canon\")\n",
        "print(message)"
      ],
      "metadata": {
        "id": "lkOLcpOPPc4E",
        "colab": {
          "base_uri": "https://localhost:8080/"
        },
        "outputId": "989c941c-811a-4881-d5e8-15dab3e0996e"
      },
      "execution_count": null,
      "outputs": [
        {
          "output_type": "stream",
          "name": "stdout",
          "text": [
            "Hello, Canon!\n"
          ]
        }
      ]
    },
    {
      "cell_type": "markdown",
      "source": [
        "## Function with multiple arguments\n"
      ],
      "metadata": {
        "id": "eqHRrhOiPmDR"
      }
    },
    {
      "cell_type": "code",
      "source": [
        "# Function with multiple arguments\n",
        "def add_numbers(a, b):\n",
        "    return a + b"
      ],
      "metadata": {
        "id": "1a_TKMXZPmLJ"
      },
      "execution_count": null,
      "outputs": []
    },
    {
      "cell_type": "markdown",
      "source": [
        "## Use case:"
      ],
      "metadata": {
        "id": "mZPR0KrkPsyR"
      }
    },
    {
      "cell_type": "code",
      "source": [
        "sum_result = add_numbers(10, 5)\n",
        "print(f\"Sum: {sum_result}\")"
      ],
      "metadata": {
        "id": "wp3tp6JIPqnd",
        "colab": {
          "base_uri": "https://localhost:8080/"
        },
        "outputId": "5ba2a4aa-53e6-4de0-dbf5-259fa200b304"
      },
      "execution_count": null,
      "outputs": [
        {
          "output_type": "stream",
          "name": "stdout",
          "text": [
            "Sum: 15\n"
          ]
        }
      ]
    }
  ]
}