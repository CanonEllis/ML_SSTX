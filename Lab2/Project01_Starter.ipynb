{
  "nbformat": 4,
  "nbformat_minor": 0,
  "metadata": {
    "colab": {
      "provenance": []
    },
    "kernelspec": {
      "name": "python3",
      "display_name": "Python 3"
    },
    "language_info": {
      "name": "python"
    }
  },
  "cells": [
    {
      "cell_type": "code",
      "source": [
        "import numpy as np\n",
        "import seaborn as sns\n",
        "from sklearn.model_selection import train_test_split\n",
        "import matplotlib.pyplot as plt"
      ],
      "metadata": {
        "id": "VlNg8eUuPLhJ"
      },
      "execution_count": 2,
      "outputs": []
    },
    {
      "cell_type": "markdown",
      "source": [
        "## Explanation of the Linear Regression Implementation:\n",
        "**Loading the Dataset:**\n",
        "The mpg dataset is loaded, and we extract the horsepower as the input feature (X) and mpg as the target (y). Missing values are dropped.\n",
        "\n",
        "**Train-Test Split:**\n",
        "The data is split into training and testing sets, with 80% of the data used for training and 20% for testing.\n",
        "\n",
        "**Linear Regression:**\n",
        "The linear regression model is implemented using the equation\n",
        "𝑦\n",
        "pred\n",
        "=\n",
        "𝜃\n",
        "0\n",
        "+\n",
        "𝜃\n",
        "1\n",
        "×\n",
        "horsepower\n",
        "y\n",
        "pred\n",
        "​\n",
        " =θ\n",
        "0\n",
        "​\n",
        " +θ\n",
        "1\n",
        "​\n",
        " ×horsepower. Coefficients are initialized arbitrarily, and the cost functions (MSE and R²) are computed.\n",
        "\n",
        "**Model Evaluation:**\n",
        "MSE and R² are calculated on both the training and test sets to assess the model's performance.\n",
        "\n",
        "**Visualization:**\n",
        "A scatter plot of the actual mpg values vs. horsepower is created, with the predicted values plotted as a line."
      ],
      "metadata": {
        "id": "wQkZZPKqRQHa"
      }
    },
    {
      "cell_type": "code",
      "execution_count": 3,
      "metadata": {
        "id": "DtiDvoeAOvuH"
      },
      "outputs": [],
      "source": [
        "# Load the Auto MPG dataset\n",
        "autompg = sns.load_dataset('mpg')"
      ]
    },
    {
      "cell_type": "code",
      "source": [
        "# Extract 'horsepower' as the feature (X) and 'mpg' as the target (y)\n",
        "X = autompg['horsepower'].values\n",
        "y = autompg['mpg'].values"
      ],
      "metadata": {
        "id": "uQ6iGpzNOywI"
      },
      "execution_count": 4,
      "outputs": []
    },
    {
      "cell_type": "code",
      "source": [
        "# Split into training and testing sets for better model validation\n",
        "X_train, X_test, y_train, y_test = train_test_split(X, y, test_size=0.2, random_state=42)"
      ],
      "metadata": {
        "id": "KhxJhGHyOy2t"
      },
      "execution_count": 5,
      "outputs": []
    },
    {
      "cell_type": "code",
      "source": [
        "# Linear Regression Function\n",
        "def linear_regression(X, y, cost_func='mse'):\n",
        "    # Convert X into a 2D array to enable matrix operations (this ensures proper shape for multiplication)\n",
        "    X = np.array(X).reshape(-1, 1)\n",
        "    # Add a bias term (intercept) to X by concatenating a column of 1's. This allows the model to learn an intercept term.\n",
        "    X_b = np.c_[np.ones((len(X), 1)), X]\n",
        "\n",
        "    # Define the initial coefficients (theta), which include the intercept and slope.\n",
        "    # These are the model's parameters that will be used to make predictions.\n",
        "    theta = np.array([1, 0.5])\n",
        "\n",
        "    # Compute the predicted values (y_pred) by multiplying the feature matrix (X_b) by the coefficients (theta).\n",
        "    # This calculates the estimated mpg values based on horsepower. NOTE: Look up dot product in python :)\n",
        "\n",
        "    # If 'mse' is selected as the cost function, calculate the Mean Squared Error between the actual values (y) and predicted values (y_pred).\n",
        "\n",
        "    # If 'r_squared' is selected as the cost function, calculate the R-squared metric to measure the fit of the model.\n",
        "\n",
        "    # Return both the selected cost function value and the predicted values (y_pred).\n",
        "\n",
        "# MSE Function: Mean Squared Error\n",
        "def mse(y_true, y_pred):\n",
        "    # Compute the squared differences between actual values (y_true) and predicted values (y_pred).\n",
        "\n",
        "    # Compute the mean of these squared differences to get the MSE.\n",
        "\n",
        "    # Return the computed MSE.\n",
        "\n",
        "# R-squared Function\n",
        "def r_squared(y_true, y_pred):\n",
        "    # Calculate the total sum of squares (SS_total), which represents the variance in the actual values (y_true).\n",
        "\n",
        "    # Calculate the residual sum of squares (SS_res), which represents the variance in the errors (y_true - y_pred).\n",
        "\n",
        "    # Use the formula R² = 1 - (SS_res / SS_total) to compute R-squared, which measures how well the model explains the variance in the data.\n",
        "\n",
        "    # Return the computed R-squared value.\n",
        "\n",
        "\n",
        "\n",
        "\n",
        "\n",
        "\n",
        "# Train the model on the training data\n",
        "mse_train, _ = linear_regression(X_train, y_train, cost_func='mse')\n",
        "r2_train, _ = linear_regression(X_train, y_train, cost_func='r_squared')\n",
        "print(\"Training Data: MSE:\", mse_train, \"R²:\", r2_train)\n",
        "\n",
        "# Test the model on the test data\n",
        "mse_test, y_pred_test = linear_regression(X_test, y_test, cost_func='mse')\n",
        "r2_test, _ = linear_regression(X_test, y_test, cost_func='r_squared')\n",
        "print(\"Test Data: MSE:\", mse_test, \"R²:\", r2_test)\n",
        "\n",
        "# Visualization: Plot the actual vs predicted values for the test data\n",
        "#Put all the matplotlib code here"
      ],
      "metadata": {
        "id": "mwu19jW8Oy7Z"
      },
      "execution_count": null,
      "outputs": []
    },
    {
      "cell_type": "markdown",
      "source": [
        "Answer the following questions:\n",
        "\n",
        "\n",
        "1.   Are the results surprising?\n",
        "2.   What do they tell you about your implementation?"
      ],
      "metadata": {
        "id": "8YRV80bjQCn5"
      }
    }
  ]
}