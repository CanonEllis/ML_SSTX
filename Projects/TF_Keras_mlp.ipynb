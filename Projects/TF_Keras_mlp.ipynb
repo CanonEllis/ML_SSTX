{
  "cells": [
    {
      "cell_type": "markdown",
      "id": "5bcb4dc2",
      "metadata": {
        "id": "5bcb4dc2"
      },
      "source": [
        "# Working with Your Own Image Dataset for an MLP"
      ]
    },
    {
      "cell_type": "markdown",
      "id": "d02349ab",
      "metadata": {
        "id": "d02349ab"
      },
      "source": [
        "## Step 1: Import Necessary Libraries\n",
        "Before working with images, ensure you have the required libraries installed. If you haven’t installed them yet, use:\n",
        "```bash\n",
        "pip install numpy matplotlib tensorflow pillow scikit-learn\n",
        "```\n",
        "Then, import the necessary libraries:"
      ]
    },
    {
      "cell_type": "code",
      "execution_count": null,
      "id": "78d98452",
      "metadata": {
        "id": "78d98452"
      },
      "outputs": [],
      "source": [
        "import os\n",
        "import numpy as np\n",
        "import matplotlib.pyplot as plt\n",
        "from tensorflow import keras\n",
        "from tensorflow.keras import layers\n",
        "from tensorflow.keras.preprocessing.image import load_img, img_to_array\n",
        "from sklearn.model_selection import train_test_split"
      ]
    },
    {
      "cell_type": "markdown",
      "id": "aca47ce4",
      "metadata": {
        "id": "aca47ce4"
      },
      "source": [
        "## Step 2: Load Your Image Dataset\n",
        "To work with your own dataset, organize your images into folders. For example:\n",
        "```\n",
        "dataset/\n",
        "    class_1/\n",
        "        image1.jpg\n",
        "        image2.jpg\n",
        "    class_2/\n",
        "        image1.jpg\n",
        "        image2.jpg\n",
        "```\n",
        "You can load the dataset with:"
      ]
    },
    {
      "cell_type": "code",
      "execution_count": null,
      "id": "b302cd69",
      "metadata": {
        "id": "b302cd69"
      },
      "outputs": [],
      "source": [
        "data_dir = 'path_to_your_dataset'  # Change this to your dataset path\n",
        "classes = os.listdir(data_dir)\n",
        "x_data = []\n",
        "y_data = []\n",
        "for class_idx, class_name in enumerate(classes):\n",
        "    class_path = os.path.join(data_dir, class_name)\n",
        "    for img_name in os.listdir(class_path):\n",
        "        img_path = os.path.join(class_path, img_name)\n",
        "        img = load_img(img_path, target_size=(28, 28), color_mode='grayscale')\n",
        "        img_array = img_to_array(img) / 255.0\n",
        "        x_data.append(img_array)\n",
        "        y_data.append(class_idx)\n",
        "x_data = np.array(x_data)\n",
        "y_data = np.array(y_data)"
      ]
    },
    {
      "cell_type": "markdown",
      "id": "c7b7e508",
      "metadata": {
        "id": "c7b7e508"
      },
      "source": [
        "## Step 3: Display Sample Images"
      ]
    },
    {
      "cell_type": "code",
      "execution_count": null,
      "id": "0fb48e98",
      "metadata": {
        "id": "0fb48e98"
      },
      "outputs": [],
      "source": [
        "fig, axes = plt.subplots(1, 5, figsize=(10, 5))\n",
        "for i, ax in enumerate(axes):\n",
        "    ax.imshow(x_data[i].squeeze(), cmap='gray')\n",
        "    ax.axis('off')\n",
        "    ax.set_title(f'Class: {y_data[i]}')\n",
        "plt.show()"
      ]
    },
    {
      "cell_type": "markdown",
      "id": "b130e4bd",
      "metadata": {
        "id": "b130e4bd"
      },
      "source": [
        "## Step 4: Prepare the Data for MLP\n",
        "Since MLPs require 1D input, reshape the images:"
      ]
    },
    {
      "cell_type": "code",
      "execution_count": null,
      "id": "66fe6c15",
      "metadata": {
        "id": "66fe6c15"
      },
      "outputs": [],
      "source": [
        "x_data = x_data.reshape(x_data.shape[0], -1)  # Flatten 28x28 images to 784\n",
        "x_train, x_test, y_train, y_test = train_test_split(x_data, y_data, test_size=0.2, random_state=42)"
      ]
    },
    {
      "cell_type": "markdown",
      "id": "aa38e112",
      "metadata": {
        "id": "aa38e112"
      },
      "source": [
        "## Step 5: Build and Train an MLP Model"
      ]
    },
    {
      "cell_type": "code",
      "execution_count": null,
      "id": "32d11230",
      "metadata": {
        "id": "32d11230"
      },
      "outputs": [],
      "source": [
        "model = keras.Sequential([\n",
        "    layers.Dense(128, activation='relu', input_shape=(784,)),\n",
        "    layers.Dense(64, activation='relu'),\n",
        "    layers.Dense(32, activation='relu'),\n",
        "    layers.Dense(16, activation='relu'),\n",
        "    layers.Dense(len(classes), activation='softmax')\n",
        "])\n",
        "model.compile(optimizer='adam', loss='sparse_categorical_crossentropy', metrics=['accuracy'])\n",
        "history = model.fit(x_train, y_train, epochs=10, validation_data=(x_test, y_test))"
      ]
    },
    {
      "cell_type": "markdown",
      "id": "92e77f11",
      "metadata": {
        "id": "92e77f11"
      },
      "source": [
        "## Step 6: Evaluate the Model"
      ]
    },
    {
      "cell_type": "code",
      "execution_count": null,
      "id": "3e10417c",
      "metadata": {
        "id": "3e10417c"
      },
      "outputs": [],
      "source": [
        "loss, accuracy = model.evaluate(x_test, y_test)\n",
        "print(f'Test Accuracy: {accuracy:.4f}')"
      ]
    },
    {
      "cell_type": "markdown",
      "id": "1b38f7c5",
      "metadata": {
        "id": "1b38f7c5"
      },
      "source": [
        "## Step 7: Visualizing Training History"
      ]
    },
    {
      "cell_type": "code",
      "execution_count": null,
      "id": "3c372bf0",
      "metadata": {
        "id": "3c372bf0"
      },
      "outputs": [],
      "source": [
        "plt.plot(history.history['accuracy'], label='Training Accuracy')\n",
        "plt.plot(history.history['val_accuracy'], label='Validation Accuracy')\n",
        "plt.xlabel('Epochs')\n",
        "plt.ylabel('Accuracy')\n",
        "plt.legend()\n",
        "plt.title('Training and Validation Accuracy')\n",
        "plt.show()"
      ]
    },
    {
      "cell_type": "markdown",
      "source": [
        "##Step 8: Challenge Question\n",
        "Modify your dataset by introducing small variations to the images, such as **rotations**, **flips**, or **noise**. Then, retrain the model and analyze its performance.\n",
        "\n",
        "* Use image augmentation techniques to alter your dataset.\n",
        "* Compare the model’s accuracy before and after augmentation.\n",
        "* Explain whether these modifications improved or degraded the model’s ability to generalize."
      ],
      "metadata": {
        "id": "DWMndYKHZ9Ys"
      },
      "id": "DWMndYKHZ9Ys"
    }
  ],
  "metadata": {
    "colab": {
      "provenance": []
    }
  },
  "nbformat": 4,
  "nbformat_minor": 5
}