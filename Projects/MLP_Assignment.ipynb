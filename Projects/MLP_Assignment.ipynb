{
  "cells": [
    {
      "cell_type": "markdown",
      "source": [
        "MLP Starter Code  \n",
        "\n",
        "Winter Term Project\n"
      ],
      "metadata": {
        "id": "Z5ae_XxBXSa3"
      }
    },
   
    {
      "cell_type": "markdown",
      "source": [
        "# **Assignment: Building a Multi-Layer Perceptron (MLP) from Scratch**\n",
        "\n",
        "## Assignment Description\n",
        "In this assignment, you will extend the provided code for a single-layer perceptron to implement a multi-layer perceptron (MLP). You will build and train models with 2, 3, and 4 layers, using the MNIST dataset. Each additional layer requires modifying forward propagation, backpropagation, and weight initialization to handle multiple layers.\n",
        "\n",
        "## Learning Objectives\n",
        "By the end of this assignment, you will:\n",
        "\n",
        "Understand how to add intermediate layers to an MLP.\n",
        "Implement forward and backward propagation for multiple layers.\n",
        "Learn to handle weights, biases, and activations for multiple layers.\n",
        "Train and evaluate multi-layer neural networks on the MNIST dataset.\n",
        "\n",
        "# Assignment Steps\n",
        "1. **Review the Single-Layer Perceptron Code\n",
        "Carefully read and understand the provided code for a single-layer perceptron**. *Note how: Weights and biases are initialized. Forward propagation computes predictions.\n",
        "Backpropagation updates weights and biases using the gradients.*\n",
        "\n",
        "2. **Modify the Code for a 2-Layer MLP\n",
        "To create a 2-layer MLP**:\n",
        "Add an intermediate hidden layer.\n",
        "Initialize weights and biases for both the input-to-hidden and hidden-to-output layers.\n",
        "Modify forward propagation to calculate activations for the hidden layer and then pass them to the output layer.\n",
        "Extend backpropagation to compute gradients for both layers and update weights accordingly.\n",
        "\n",
        "3. **Extend the MLP to 3 and 4 Layers\n",
        "Once you’ve implemented a 2-layer MLP**:\n",
        "Add more layers to create 3-layer and 4-layer MLPs.\n",
        "Ensure that forward propagation calculates activations for all intermediate layers sequentially.\n",
        "Modify backpropagation to compute gradients for all layers using the chain rule.\n",
        "\n",
        "#Tasks for Students\n",
        "##Add an Intermediate Layer (2-Layer MLP):\n",
        "  Initialize weights and biases for the hidden layer.\n",
        "\n",
        "*   Compute activations for the hidden layer during forward propagation.\n",
        "*   Update weights and biases for both layers during backpropagation.\n",
        "\n",
        "## Extend to 3 and 4 Layers:\n",
        "\n",
        "* Add additional layers.\n",
        "* Ensure forward propagation calculates activations sequentially for all layers.\n",
        "* Backpropagate errors using the chain rule for all layers.\n",
        "\n",
        "\n",
        "##Plot Loss and Evaluate Accuracy:\n",
        "* Plot the training loss for each model.\n",
        "* Compute and display the accuracy for each model on the test set.\n",
        "\n",
        "\n",
        "\n",
        "## Challenge Question\n",
        "Add a fifth layer and then Optimize the 5-layer MLP by experimenting with different activation functions (e.g., ReLU, Tanh) or learning rates.\n",
        "\n",
        "Analyze how these changes affect the model's performance and report your findings.\n",
        "\n",
        "Good luck, and happy coding!"
      ],
      "metadata": {
        "id": "O6qGIth4Xxkz"
      }
    },
    {
      "cell_type": "code",
      "execution_count": 2,
      "metadata": {
        "colab": {
          "base_uri": "https://localhost:8080/"
        },
        "id": "lIYdn1woOS1n",
        "outputId": "39c0016a-00f9-49cc-95dd-948f305aa8d6"
      },
      "outputs": [
        {
          "output_type": "stream",
          "name": "stdout",
          "text": [
            "Downloading data from https://storage.googleapis.com/tensorflow/tf-keras-datasets/mnist.npz\n",
            "\u001b[1m11490434/11490434\u001b[0m \u001b[32m━━━━━━━━━━━━━━━━━━━━\u001b[0m\u001b[37m\u001b[0m \u001b[1m0s\u001b[0m 0us/step\n"
          ]
        }
      ],
      "source": [
        "from keras.datasets import mnist\n",
        "import numpy as np\n",
        "\n",
        "# Load MNIST dataset\n",
        "(x_train, y_train), (x_test, y_test) = mnist.load_data()\n",
        "\n",
        "# Normalize and reshape the data\n",
        "x_train = x_train.reshape(x_train.shape[0], -1) / 255.0  # Flatten the 28x28 images to 784 features\n",
        "x_test = x_test.reshape(x_test.shape[0], -1) / 255.0\n",
        "\n",
        "# One-hot encode the labels\n",
        "y_train_encoded = np.zeros((y_train.size, y_train.max() + 1))\n",
        "y_train_encoded[np.arange(y_train.size), y_train] = 1\n",
        "\n",
        "y_test_encoded = np.zeros((y_test.size, y_test.max() + 1))\n",
        "y_test_encoded[np.arange(y_test.size), y_test] = 1\n"
      ]
    },
    {
      "cell_type": "markdown",
      "source": [
        "Helper Functions"
      ],
      "metadata": {
        "id": "yEinUQjMXHMY"
      }
    },
    {
      "cell_type": "code",
      "source": [
        "# Activation function: Sigmoid\n",
        "def sigmoid(x):\n",
        "    return 1 / (1 + np.exp(-x))\n",
        "\n",
        "# Derivative of sigmoid for backpropagation\n",
        "def sigmoid_derivative(x):\n",
        "    return x * (1 - x)\n",
        "\n",
        "# Initialize weights and biases\n",
        "def initialize_weights(input_size, output_size):\n",
        "    weights = np.random.randn(input_size, output_size) * 0.1\n",
        "    biases = np.zeros((1, output_size))\n",
        "    return weights, biases\n"
      ],
      "metadata": {
        "id": "IIC2V0ZAW7Fy"
      },
      "execution_count": 3,
      "outputs": []
    },
    {
      "cell_type": "markdown",
      "source": [
        "Implementation of SLP(Single Layer Perceptron)"
      ],
      "metadata": {
        "id": "Nl8pT4ujXBnv"
      }
    },
    {
      "cell_type": "code",
      "source": [
        "# Forward propagation\n",
        "def forward_propagation(x, weights, biases):\n",
        "    z = np.dot(x, weights) + biases\n",
        "    a = sigmoid(z)\n",
        "    return z, a\n",
        "\n",
        "# Backpropagation\n",
        "def back_propagation(x, y, weights, biases, z, a, learning_rate):\n",
        "    # Compute loss gradient w.r.t output activation\n",
        "    dz = a - y\n",
        "    dw = np.dot(x.T, dz) / x.shape[0]\n",
        "    db = np.sum(dz, axis=0, keepdims=True) / x.shape[0]\n",
        "\n",
        "    # Update weights and biases\n",
        "    weights -= learning_rate * dw\n",
        "    biases -= learning_rate * db\n",
        "    return weights, biases\n"
      ],
      "metadata": {
        "id": "ujGhzY12W8F3"
      },
      "execution_count": 4,
      "outputs": []
    },
    {
      "cell_type": "code",
      "source": [
        "import matplotlib.pyplot as plt\n",
        "\n",
        "def train_mlp_one_layer(x_train, y_train, epochs, learning_rate):\n",
        "    input_size = x_train.shape[1]\n",
        "    output_size = y_train.shape[1]\n",
        "\n",
        "    # Initialize weights and biases\n",
        "    weights, biases = initialize_weights(input_size, output_size)\n",
        "\n",
        "    # List to store loss for plotting\n",
        "    loss_history = []\n",
        "\n",
        "    for epoch in range(epochs):\n",
        "        # Forward pass\n",
        "        z, a = forward_propagation(x_train, weights, biases)\n",
        "\n",
        "        # Compute loss (Mean Squared Error)\n",
        "        loss = np.mean((a - y_train) ** 2)\n",
        "        loss_history.append(loss)  # Track loss\n",
        "\n",
        "        # Backward pass\n",
        "        weights, biases = back_propagation(x_train, y_train, weights, biases, z, a, learning_rate)\n",
        "\n",
        "        if epoch % 10 == 0:\n",
        "            print(f\"Epoch {epoch}, Loss: {loss}\")\n",
        "\n",
        "    # Plot the loss graph\n",
        "    plt.figure(figsize=(8, 6))\n",
        "    plt.plot(range(epochs), loss_history, label=\"Loss\")\n",
        "    plt.title(\"Training Loss Over Epochs\")\n",
        "    plt.xlabel(\"Epochs\")\n",
        "    plt.ylabel(\"Loss\")\n",
        "    plt.legend()\n",
        "    plt.grid()\n",
        "    plt.show()\n",
        "\n",
        "    return weights, biases\n",
        "\n"
      ],
      "metadata": {
        "id": "eoIXLQeXW-en"
      },
      "execution_count": 10,
      "outputs": []
    },
    {
      "cell_type": "markdown",
      "source": [
        "Test The SLP"
      ],
      "metadata": {
        "id": "LdvFlQdgXiGV"
      }
    },
    {
      "cell_type": "code",
      "source": [
        "def test_mlp_one_layer(x_test, y_test, weights, biases):\n",
        "    _, predictions = forward_propagation(x_test, weights, biases)\n",
        "    predicted_labels = np.argmax(predictions, axis=1)\n",
        "    true_labels = np.argmax(y_test, axis=1)\n",
        "    accuracy = np.mean(predicted_labels == true_labels)\n",
        "    print(f\"Accuracy: {accuracy * 100:.2f}%\")\n"
      ],
      "metadata": {
        "id": "YjIhqXMlYOyt"
      },
      "execution_count": 11,
      "outputs": []
    },
    {
      "cell_type": "markdown",
      "source": [
        "Running the SLP"
      ],
      "metadata": {
        "id": "IJfs3PCAXn2s"
      }
    },
    {
      "cell_type": "code",
      "source": [
        "# Hyperparameters\n",
        "epochs = 100\n",
        "learning_rate = 0.1\n",
        "\n",
        "# Train the MLP with graph\n",
        "weights, biases = train_mlp_one_layer(x_train, y_train_encoded, epochs, learning_rate)\n",
        "\n",
        "# Test the MLP\n",
        "test_mlp_one_layer(x_test, y_test_encoded, weights, biases)\n",
        "\n"
      ],
      "metadata": {
        "id": "t06mw08QXlw6",
        "outputId": "657e2c73-dff5-4f0c-aa57-884b7d1d0435",
        "colab": {
          "base_uri": "https://localhost:8080/",
          "height": 755
        }
      },
      "execution_count": 12,
      "outputs": [
        {
          "output_type": "stream",
          "name": "stdout",
          "text": [
            "Epoch 0, Loss: 0.31162965016522404\n",
            "Epoch 10, Loss: 0.07943104056222537\n",
            "Epoch 20, Loss: 0.06498024451925312\n",
            "Epoch 30, Loss: 0.05609205584600926\n",
            "Epoch 40, Loss: 0.05035761912022797\n",
            "Epoch 50, Loss: 0.04637090905138063\n",
            "Epoch 60, Loss: 0.043423303365059514\n",
            "Epoch 70, Loss: 0.04114046843064796\n",
            "Epoch 80, Loss: 0.03930962888302855\n",
            "Epoch 90, Loss: 0.03780140573931611\n"
          ]
        },
        {
          "output_type": "display_data",
          "data": {
            "text/plain": [
              "<Figure size 800x600 with 1 Axes>"
            ],
            "image/png": "[encoded data removed]"
          },
          "metadata": {}
        },
        {
          "output_type": "stream",
          "name": "stdout",
          "text": [
            "Accuracy: 84.73%\n"
          ]
        }
      ]
    }
  ],
  "metadata": {
    "colab": {
      "name": "scratchpad",
      "provenance": []
    },
    "kernelspec": {
      "display_name": "Python 3",
      "name": "python3"
    }
  },
  "nbformat": 4,
  "nbformat_minor": 0
}
